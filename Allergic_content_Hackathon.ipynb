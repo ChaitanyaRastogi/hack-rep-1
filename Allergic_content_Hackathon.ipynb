{
  "nbformat": 4,
  "nbformat_minor": 0,
  "metadata": {
    "colab": {
      "provenance": []
    },
    "kernelspec": {
      "name": "python3",
      "display_name": "Python 3"
    },
    "language_info": {
      "name": "python"
    }
  },
  "cells": [
    {
      "cell_type": "code",
      "execution_count": 1,
      "metadata": {
        "colab": {
          "base_uri": "https://localhost:8080/"
        },
        "id": "hypq01DwTzY7",
        "outputId": "912bba38-c142-43ac-fdbe-1c3609295013"
      },
      "outputs": [
        {
          "output_type": "stream",
          "name": "stdout",
          "text": [
            "Collecting openai\n",
            "  Downloading openai-1.35.4-py3-none-any.whl (327 kB)\n",
            "\u001b[2K     \u001b[90m━━━━━━━━━━━━━━━━━━━━━━━━━━━━━━━━━━━━━━━━\u001b[0m \u001b[32m327.4/327.4 kB\u001b[0m \u001b[31m2.5 MB/s\u001b[0m eta \u001b[36m0:00:00\u001b[0m\n",
            "\u001b[?25hRequirement already satisfied: anyio<5,>=3.5.0 in /usr/local/lib/python3.10/dist-packages (from openai) (3.7.1)\n",
            "Requirement already satisfied: distro<2,>=1.7.0 in /usr/lib/python3/dist-packages (from openai) (1.7.0)\n",
            "Collecting httpx<1,>=0.23.0 (from openai)\n",
            "  Downloading httpx-0.27.0-py3-none-any.whl (75 kB)\n",
            "\u001b[2K     \u001b[90m━━━━━━━━━━━━━━━━━━━━━━━━━━━━━━━━━━━━━━━━\u001b[0m \u001b[32m75.6/75.6 kB\u001b[0m \u001b[31m4.2 MB/s\u001b[0m eta \u001b[36m0:00:00\u001b[0m\n",
            "\u001b[?25hRequirement already satisfied: pydantic<3,>=1.9.0 in /usr/local/lib/python3.10/dist-packages (from openai) (2.7.4)\n",
            "Requirement already satisfied: sniffio in /usr/local/lib/python3.10/dist-packages (from openai) (1.3.1)\n",
            "Requirement already satisfied: tqdm>4 in /usr/local/lib/python3.10/dist-packages (from openai) (4.66.4)\n",
            "Requirement already satisfied: typing-extensions<5,>=4.7 in /usr/local/lib/python3.10/dist-packages (from openai) (4.12.2)\n",
            "Requirement already satisfied: idna>=2.8 in /usr/local/lib/python3.10/dist-packages (from anyio<5,>=3.5.0->openai) (3.7)\n",
            "Requirement already satisfied: exceptiongroup in /usr/local/lib/python3.10/dist-packages (from anyio<5,>=3.5.0->openai) (1.2.1)\n",
            "Requirement already satisfied: certifi in /usr/local/lib/python3.10/dist-packages (from httpx<1,>=0.23.0->openai) (2024.6.2)\n",
            "Collecting httpcore==1.* (from httpx<1,>=0.23.0->openai)\n",
            "  Downloading httpcore-1.0.5-py3-none-any.whl (77 kB)\n",
            "\u001b[2K     \u001b[90m━━━━━━━━━━━━━━━━━━━━━━━━━━━━━━━━━━━━━━━━\u001b[0m \u001b[32m77.9/77.9 kB\u001b[0m \u001b[31m5.9 MB/s\u001b[0m eta \u001b[36m0:00:00\u001b[0m\n",
            "\u001b[?25hCollecting h11<0.15,>=0.13 (from httpcore==1.*->httpx<1,>=0.23.0->openai)\n",
            "  Downloading h11-0.14.0-py3-none-any.whl (58 kB)\n",
            "\u001b[2K     \u001b[90m━━━━━━━━━━━━━━━━━━━━━━━━━━━━━━━━━━━━━━━━\u001b[0m \u001b[32m58.3/58.3 kB\u001b[0m \u001b[31m3.8 MB/s\u001b[0m eta \u001b[36m0:00:00\u001b[0m\n",
            "\u001b[?25hRequirement already satisfied: annotated-types>=0.4.0 in /usr/local/lib/python3.10/dist-packages (from pydantic<3,>=1.9.0->openai) (0.7.0)\n",
            "Requirement already satisfied: pydantic-core==2.18.4 in /usr/local/lib/python3.10/dist-packages (from pydantic<3,>=1.9.0->openai) (2.18.4)\n",
            "Installing collected packages: h11, httpcore, httpx, openai\n",
            "Successfully installed h11-0.14.0 httpcore-1.0.5 httpx-0.27.0 openai-1.35.4\n"
          ]
        }
      ],
      "source": [
        "!pip install openai"
      ]
    },
    {
      "cell_type": "code",
      "source": [
        "from openai import AzureOpenAI\n",
        "import os\n",
        "\n",
        "api_base = 'https://gpt-4-turbo-vision.openai.azure.com/' # your endpoint should look like the following https://YOUR_RESOURCE_NAME.openai.azure.com/\n",
        "api_key=\"3bd8e4e1a2db439e9a499d1690f6e232\"\n",
        "deployment_name = 'gpt-4-vision-preview'\n",
        "api_version = '2023-12-01-preview' # this might change in the future"
      ],
      "metadata": {
        "id": "OiAvKD56T0Lb"
      },
      "execution_count": 2,
      "outputs": []
    },
    {
      "cell_type": "code",
      "source": [
        "client = AzureOpenAI(\n",
        "    api_key=api_key,\n",
        "    api_version=api_version,\n",
        "    base_url=f\"{api_base}openai/deployments/{deployment_name}/extensions\",\n",
        ")"
      ],
      "metadata": {
        "id": "pfH63L6mT2Nb"
      },
      "execution_count": 3,
      "outputs": []
    },
    {
      "cell_type": "code",
      "source": [
        "import base64\n",
        "from mimetypes import guess_type"
      ],
      "metadata": {
        "id": "1s81Wpv2T6aG"
      },
      "execution_count": 4,
      "outputs": []
    },
    {
      "cell_type": "code",
      "source": [
        "def encode_image(image_path):\n",
        "    with open(image_path, \"rb\") as f:\n",
        "        return base64.b64encode(f.read()).decode('utf-8')"
      ],
      "metadata": {
        "id": "OOkg00E7UABw"
      },
      "execution_count": 5,
      "outputs": []
    },
    {
      "cell_type": "code",
      "source": [
        "def image_ingredients_azure(imag_base64):\n",
        "  prompt = \"You are a bot that is good at analyzing images. provide list of ingredients present in image\"\n",
        "  response = client.chat.completions.create(\n",
        "      model=deployment_name,\n",
        "      messages=[\n",
        "          { \"role\": \"system\", \"content\": \"You are a helpful assistant.\" },\n",
        "          { \"role\": \"user\", \"content\": [\n",
        "              {\n",
        "                  \"type\": \"text\",\n",
        "                  \"text\":  prompt,\n",
        "              },\n",
        "              {\n",
        "                  \"type\": \"image_url\",\n",
        "                  \"image_url\": {\"url\":f\"data:image/png;base64,{imag_base64}\"},\n",
        "              }\n",
        "              ]\n",
        "          }\n",
        "      ],\n",
        "      max_tokens=2000\n",
        "    )\n",
        "  return response.choices[0].message.content"
      ],
      "metadata": {
        "id": "XvgvwypoT7Hg"
      },
      "execution_count": 6,
      "outputs": []
    },
    {
      "cell_type": "code",
      "source": [
        "image_ingre = []\n",
        "for i in os.listdir(\"./images\"):\n",
        "    if i.endswith(('.png', '.jpg', '.jpeg')):\n",
        "        image_path = os.path.join(\"./images\", i)\n",
        "        encoded_image = encode_image(image_path)\n",
        "        response = image_ingredients_azure(encoded_image)\n",
        "        image_ingre.append(response)\n",
        "\n",
        "image_ingre"
      ],
      "metadata": {
        "colab": {
          "base_uri": "https://localhost:8080/"
        },
        "id": "34de6i8fT9On",
        "outputId": "27a8acad-ae3d-43f0-8bf1-4f107ad79f21"
      },
      "execution_count": 8,
      "outputs": [
        {
          "output_type": "execute_result",
          "data": {
            "text/plain": [
              "['The image shows a label listing the ingredients of a food product. Here are the ingredients listed:\\n\\nNoodles:\\n- Wheat flour\\n- Edible vegetable oil\\n- Salt\\n- Wheat gluten\\n- Mineral (170(i)) and Guar gum\\n\\nMasala TASTEMAKER®:\\n- Hydrolysed groundnut protein\\n- Mixed spices (24.9%) of which (Onion powder, Chilli powder, Garlic powder, Coriander, Turmeric, Cumin, Aniseed, Black pepper, Fenugreek, Ginger, Clove, Nutmeg and Cardamom)\\n- Noodle powder (Wheat flour, Edible vegetable oil, Salt, Wheat gluten, Mineral (170(i)) and Guar gum)\\n- Sugar\\n- Edible starch\\n- Edible vegetable oil\\n- Salt\\n- Acidifying agent (330)\\n- Mineral (508)\\n- Flavour enhancer (635)\\n- Colour (150d) and\\n- Raising agent (500(ii))\\n\\nThe label also states \"CONTAINS PERMITTED NATURAL COLOUR.\"',\n",
              " 'The ingredients listed in the image are:\\n\\n- Water\\n- Soybean Oil\\n- Modified Food Starch\\n- Vinegar\\n- Sugar\\n- Maltodextrin\\n- Salt\\n- Natural Flavor\\n- Eggs\\n- Mustard Flour\\n- Lactic Acid\\n- Potassium Sorbate (to protect flavor)\\n- Phosphoric Acid\\n- Dried Onions\\n- Dried Garlic\\n- Calcium Disodium EDTA (to protect flavor)\\n- Beta Carotene (color)\\n\\nAdditionally, it states that the product contains egg.']"
            ]
          },
          "metadata": {},
          "execution_count": 8
        }
      ]
    },
    {
      "cell_type": "code",
      "source": [],
      "metadata": {
        "id": "uMjBh6C-U1_c"
      },
      "execution_count": null,
      "outputs": []
    }
  ]
}